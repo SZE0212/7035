{
 "cells": [
  {
   "cell_type": "code",
   "execution_count": 1,
   "id": "6a97c47b",
   "metadata": {},
   "outputs": [],
   "source": [
    "#step 2"
   ]
  },
  {
   "cell_type": "code",
   "execution_count": 2,
   "id": "351532e9",
   "metadata": {},
   "outputs": [],
   "source": [
    "import pandas as pd"
   ]
  },
  {
   "cell_type": "code",
   "execution_count": 3,
   "id": "5274309c",
   "metadata": {},
   "outputs": [
    {
     "name": "stdout",
     "output_type": "stream",
     "text": [
      "数据清洗完成！\n"
     ]
    }
   ],
   "source": [
    "def clean_data(input1, input2, output):\n",
    "    # 读取 respondent_contact.csv 和 respondent_other.csv 文件\n",
    "    df1 = pd.read_csv(input1)\n",
    "    df2 = pd.read_csv(input2)\n",
    "    \n",
    "    # 合并两个输入文件，基于 ID 值进行合并\n",
    "    merged_df = pd.merge(df1, df2, left_on='respondent_id', right_on='id')\n",
    "   \n",
    "    # 删除任何含有缺失值的行\n",
    "    merged_df.dropna(inplace=True)\n",
    "    \n",
    "    # 删除职位值中包含 'insurance' 或 'Insurance' 的行\n",
    "    merged_df = merged_df[~merged_df['job'].str.contains('insurance|Insurance')]\n",
    "    \n",
    "    # 删除冗余的列\n",
    "    merged_df.drop('id', axis=1, inplace=True)\n",
    "    \n",
    "    # 保存清洗后的数据到输出文件中\n",
    "    merged_df.to_csv(output, index=False)\n",
    "    \n",
    "    print(\"数据清洗完成！\")\n",
    "    \n",
    "# 设置输入文件和输出文件的路径\n",
    "input1 = '/Users/wahszekwok/Desktop/7035 AI/assignment1/respondent_contact.csv'\n",
    "input2 = '/Users/wahszekwok/Desktop/7035 AI/assignment1/respondent_other.csv'\n",
    "output = '/Users/wahszekwok/Desktop/7035 AI/assignment1/cleaned_data.csv'\n",
    "\n",
    "# 调用 clean_data 函数进行数据清洗\n",
    "clean_data(input1, input2, output)"
   ]
  },
  {
   "cell_type": "code",
   "execution_count": 4,
   "id": "8f872a77",
   "metadata": {},
   "outputs": [
    {
     "name": "stdout",
     "output_type": "stream",
     "text": [
      "On branch main\n",
      "Changes not staged for commit:\n",
      "  (use \"git add/rm <file>...\" to update what will be committed)\n",
      "  (use \"git restore <file>...\" to discard changes in working directory)\n",
      "\tmodified:   .DS_Store\n",
      "\tdeleted:    respondent_contact_7e661c09776fc6f396ba3b2057f0e2ff.csv\n",
      "\tdeleted:    respondent_other_2c65c00317e49208d925280da78dc5d7.csv\n",
      "\n",
      "Untracked files:\n",
      "  (use \"git add <file>...\" to include in what will be committed)\n",
      "\t.ipynb_checkpoints/\n",
      "\tclean.py.ipynb\n",
      "\trespondent_contact.csv\n",
      "\trespondent_other.csv\n",
      "\n",
      "no changes added to commit (use \"git add\" and/or \"git commit -a\")\n"
     ]
    },
    {
     "data": {
      "text/plain": [
       "1"
      ]
     },
     "execution_count": 4,
     "metadata": {},
     "output_type": "execute_result"
    }
   ],
   "source": [
    "import subprocess\n",
    "\n",
    "# 执行 git commit 命令进行提交\n",
    "subprocess.call([\"git\", \"commit\", \"-m\", \"data cleaning script\"])"
   ]
  },
  {
   "cell_type": "code",
   "execution_count": 5,
   "id": "60733a02",
   "metadata": {},
   "outputs": [
    {
     "name": "stdout",
     "output_type": "stream",
     "text": [
      "Output file shape: (172, 7)\n"
     ]
    }
   ],
   "source": [
    "#step3\n",
    "df = pd.read_csv('cleaned_data.csv')\n",
    "print('Output file shape:', df.shape)"
   ]
  },
  {
   "cell_type": "code",
   "execution_count": null,
   "id": "744ca784",
   "metadata": {},
   "outputs": [],
   "source": []
  }
 ],
 "metadata": {
  "kernelspec": {
   "display_name": "Python 3 (ipykernel)",
   "language": "python",
   "name": "python3"
  },
  "language_info": {
   "codemirror_mode": {
    "name": "ipython",
    "version": 3
   },
   "file_extension": ".py",
   "mimetype": "text/x-python",
   "name": "python",
   "nbconvert_exporter": "python",
   "pygments_lexer": "ipython3",
   "version": "3.11.4"
  }
 },
 "nbformat": 4,
 "nbformat_minor": 5
}
